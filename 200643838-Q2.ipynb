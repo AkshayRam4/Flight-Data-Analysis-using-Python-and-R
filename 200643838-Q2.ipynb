{
 "cells": [
  {
   "cell_type": "markdown",
   "id": "f0817a3d",
   "metadata": {},
   "source": [
    "## Question 2"
   ]
  },
  {
   "cell_type": "markdown",
   "id": "4955e48d",
   "metadata": {},
   "source": [
    "## Importing the necessary libraries"
   ]
  },
  {
   "cell_type": "code",
   "execution_count": 1,
   "id": "465f923a",
   "metadata": {},
   "outputs": [],
   "source": [
    "import numpy as np\n",
    "import pandas as pd\n",
    "import matplotlib.pyplot as plt\n",
    "import seaborn as sns"
   ]
  },
  {
   "cell_type": "markdown",
   "id": "889e2253",
   "metadata": {},
   "source": [
    "## Importing the combined dataset"
   ]
  },
  {
   "cell_type": "code",
   "execution_count": 2,
   "id": "94785cde",
   "metadata": {},
   "outputs": [],
   "source": [
    "datacomb=pd.read_csv(\"../Coursework/datacomb.csv\")"
   ]
  },
  {
   "cell_type": "code",
   "execution_count": 3,
   "id": "9022873b",
   "metadata": {},
   "outputs": [],
   "source": [
    "#Removing the unnecessary unnamed column\n",
    "datacomb = datacomb.iloc[: , 1:]"
   ]
  },
  {
   "cell_type": "markdown",
   "id": "8021a94b",
   "metadata": {},
   "source": [
    "## Importing the plane_data csv"
   ]
  },
  {
   "cell_type": "code",
   "execution_count": 4,
   "id": "8e748646",
   "metadata": {},
   "outputs": [],
   "source": [
    "planedata=pd.read_csv(\"../Coursework/planedata_c.csv\")"
   ]
  },
  {
   "cell_type": "code",
   "execution_count": 5,
   "id": "800e35d3",
   "metadata": {
    "scrolled": false
   },
   "outputs": [
    {
     "data": {
      "text/html": [
       "<div>\n",
       "<style scoped>\n",
       "    .dataframe tbody tr th:only-of-type {\n",
       "        vertical-align: middle;\n",
       "    }\n",
       "\n",
       "    .dataframe tbody tr th {\n",
       "        vertical-align: top;\n",
       "    }\n",
       "\n",
       "    .dataframe thead th {\n",
       "        text-align: right;\n",
       "    }\n",
       "</style>\n",
       "<table border=\"1\" class=\"dataframe\">\n",
       "  <thead>\n",
       "    <tr style=\"text-align: right;\">\n",
       "      <th></th>\n",
       "      <th>Unnamed: 0</th>\n",
       "      <th>tailnum</th>\n",
       "      <th>type</th>\n",
       "      <th>manufacturer</th>\n",
       "      <th>issue_date</th>\n",
       "      <th>model</th>\n",
       "      <th>status</th>\n",
       "      <th>aircraft_type</th>\n",
       "      <th>engine_type</th>\n",
       "      <th>year</th>\n",
       "    </tr>\n",
       "  </thead>\n",
       "  <tbody>\n",
       "    <tr>\n",
       "      <th>0</th>\n",
       "      <td>34</td>\n",
       "      <td>N10156</td>\n",
       "      <td>Corporation</td>\n",
       "      <td>EMBRAER</td>\n",
       "      <td>02/13/2004</td>\n",
       "      <td>EMB-145XR</td>\n",
       "      <td>Valid</td>\n",
       "      <td>Fixed Wing Multi-Engine</td>\n",
       "      <td>Turbo-Fan</td>\n",
       "      <td>2004</td>\n",
       "    </tr>\n",
       "    <tr>\n",
       "      <th>1</th>\n",
       "      <td>35</td>\n",
       "      <td>N102UW</td>\n",
       "      <td>Corporation</td>\n",
       "      <td>AIRBUS INDUSTRIE</td>\n",
       "      <td>05/26/1999</td>\n",
       "      <td>A320-214</td>\n",
       "      <td>Valid</td>\n",
       "      <td>Fixed Wing Multi-Engine</td>\n",
       "      <td>Turbo-Fan</td>\n",
       "      <td>1998</td>\n",
       "    </tr>\n",
       "    <tr>\n",
       "      <th>2</th>\n",
       "      <td>36</td>\n",
       "      <td>N10323</td>\n",
       "      <td>Corporation</td>\n",
       "      <td>BOEING</td>\n",
       "      <td>07/01/1997</td>\n",
       "      <td>737-3TO</td>\n",
       "      <td>Valid</td>\n",
       "      <td>Fixed Wing Multi-Engine</td>\n",
       "      <td>Turbo-Jet</td>\n",
       "      <td>1986</td>\n",
       "    </tr>\n",
       "    <tr>\n",
       "      <th>3</th>\n",
       "      <td>37</td>\n",
       "      <td>N103US</td>\n",
       "      <td>Corporation</td>\n",
       "      <td>AIRBUS INDUSTRIE</td>\n",
       "      <td>06/18/1999</td>\n",
       "      <td>A320-214</td>\n",
       "      <td>Valid</td>\n",
       "      <td>Fixed Wing Multi-Engine</td>\n",
       "      <td>Turbo-Fan</td>\n",
       "      <td>1999</td>\n",
       "    </tr>\n",
       "    <tr>\n",
       "      <th>4</th>\n",
       "      <td>38</td>\n",
       "      <td>N104UA</td>\n",
       "      <td>Corporation</td>\n",
       "      <td>BOEING</td>\n",
       "      <td>01/26/1998</td>\n",
       "      <td>747-422</td>\n",
       "      <td>Valid</td>\n",
       "      <td>Fixed Wing Multi-Engine</td>\n",
       "      <td>Turbo-Fan</td>\n",
       "      <td>1998</td>\n",
       "    </tr>\n",
       "    <tr>\n",
       "      <th>...</th>\n",
       "      <td>...</td>\n",
       "      <td>...</td>\n",
       "      <td>...</td>\n",
       "      <td>...</td>\n",
       "      <td>...</td>\n",
       "      <td>...</td>\n",
       "      <td>...</td>\n",
       "      <td>...</td>\n",
       "      <td>...</td>\n",
       "      <td>...</td>\n",
       "    </tr>\n",
       "    <tr>\n",
       "      <th>4475</th>\n",
       "      <td>5024</td>\n",
       "      <td>N997DL</td>\n",
       "      <td>Corporation</td>\n",
       "      <td>MCDONNELL DOUGLAS AIRCRAFT CO</td>\n",
       "      <td>03/11/1992</td>\n",
       "      <td>MD-88</td>\n",
       "      <td>Valid</td>\n",
       "      <td>Fixed Wing Multi-Engine</td>\n",
       "      <td>Turbo-Fan</td>\n",
       "      <td>1992</td>\n",
       "    </tr>\n",
       "    <tr>\n",
       "      <th>4476</th>\n",
       "      <td>5025</td>\n",
       "      <td>N998AT</td>\n",
       "      <td>Corporation</td>\n",
       "      <td>BOEING</td>\n",
       "      <td>01/23/2003</td>\n",
       "      <td>717-200</td>\n",
       "      <td>Valid</td>\n",
       "      <td>Fixed Wing Multi-Engine</td>\n",
       "      <td>Turbo-Fan</td>\n",
       "      <td>2002</td>\n",
       "    </tr>\n",
       "    <tr>\n",
       "      <th>4477</th>\n",
       "      <td>5026</td>\n",
       "      <td>N998DL</td>\n",
       "      <td>Corporation</td>\n",
       "      <td>MCDONNELL DOUGLAS CORPORATION</td>\n",
       "      <td>04/02/1992</td>\n",
       "      <td>MD-88</td>\n",
       "      <td>Valid</td>\n",
       "      <td>Fixed Wing Multi-Engine</td>\n",
       "      <td>Turbo-Jet</td>\n",
       "      <td>1992</td>\n",
       "    </tr>\n",
       "    <tr>\n",
       "      <th>4478</th>\n",
       "      <td>5027</td>\n",
       "      <td>N999CA</td>\n",
       "      <td>Foreign Corporation</td>\n",
       "      <td>CANADAIR</td>\n",
       "      <td>07/09/2008</td>\n",
       "      <td>CL-600-2B19</td>\n",
       "      <td>Valid</td>\n",
       "      <td>Fixed Wing Multi-Engine</td>\n",
       "      <td>Turbo-Jet</td>\n",
       "      <td>1998</td>\n",
       "    </tr>\n",
       "    <tr>\n",
       "      <th>4479</th>\n",
       "      <td>5028</td>\n",
       "      <td>N999DN</td>\n",
       "      <td>Corporation</td>\n",
       "      <td>MCDONNELL DOUGLAS CORPORATION</td>\n",
       "      <td>04/02/1992</td>\n",
       "      <td>MD-88</td>\n",
       "      <td>Valid</td>\n",
       "      <td>Fixed Wing Multi-Engine</td>\n",
       "      <td>Turbo-Jet</td>\n",
       "      <td>1992</td>\n",
       "    </tr>\n",
       "  </tbody>\n",
       "</table>\n",
       "<p>4480 rows × 10 columns</p>\n",
       "</div>"
      ],
      "text/plain": [
       "      Unnamed: 0 tailnum                 type                   manufacturer  \\\n",
       "0             34  N10156          Corporation                        EMBRAER   \n",
       "1             35  N102UW          Corporation               AIRBUS INDUSTRIE   \n",
       "2             36  N10323          Corporation                         BOEING   \n",
       "3             37  N103US          Corporation               AIRBUS INDUSTRIE   \n",
       "4             38  N104UA          Corporation                         BOEING   \n",
       "...          ...     ...                  ...                            ...   \n",
       "4475        5024  N997DL          Corporation  MCDONNELL DOUGLAS AIRCRAFT CO   \n",
       "4476        5025  N998AT          Corporation                         BOEING   \n",
       "4477        5026  N998DL          Corporation  MCDONNELL DOUGLAS CORPORATION   \n",
       "4478        5027  N999CA  Foreign Corporation                       CANADAIR   \n",
       "4479        5028  N999DN          Corporation  MCDONNELL DOUGLAS CORPORATION   \n",
       "\n",
       "      issue_date        model status            aircraft_type engine_type  \\\n",
       "0     02/13/2004    EMB-145XR  Valid  Fixed Wing Multi-Engine   Turbo-Fan   \n",
       "1     05/26/1999     A320-214  Valid  Fixed Wing Multi-Engine   Turbo-Fan   \n",
       "2     07/01/1997      737-3TO  Valid  Fixed Wing Multi-Engine   Turbo-Jet   \n",
       "3     06/18/1999     A320-214  Valid  Fixed Wing Multi-Engine   Turbo-Fan   \n",
       "4     01/26/1998      747-422  Valid  Fixed Wing Multi-Engine   Turbo-Fan   \n",
       "...          ...          ...    ...                      ...         ...   \n",
       "4475  03/11/1992        MD-88  Valid  Fixed Wing Multi-Engine   Turbo-Fan   \n",
       "4476  01/23/2003      717-200  Valid  Fixed Wing Multi-Engine   Turbo-Fan   \n",
       "4477  04/02/1992        MD-88  Valid  Fixed Wing Multi-Engine   Turbo-Jet   \n",
       "4478  07/09/2008  CL-600-2B19  Valid  Fixed Wing Multi-Engine   Turbo-Jet   \n",
       "4479  04/02/1992        MD-88  Valid  Fixed Wing Multi-Engine   Turbo-Jet   \n",
       "\n",
       "      year  \n",
       "0     2004  \n",
       "1     1998  \n",
       "2     1986  \n",
       "3     1999  \n",
       "4     1998  \n",
       "...    ...  \n",
       "4475  1992  \n",
       "4476  2002  \n",
       "4477  1992  \n",
       "4478  1998  \n",
       "4479  1992  \n",
       "\n",
       "[4480 rows x 10 columns]"
      ]
     },
     "execution_count": 5,
     "metadata": {},
     "output_type": "execute_result"
    }
   ],
   "source": [
    "planedata"
   ]
  },
  {
   "cell_type": "markdown",
   "id": "257a200d",
   "metadata": {},
   "source": [
    "The column 'year' is assumed to be the manufacture year of planes"
   ]
  },
  {
   "cell_type": "code",
   "execution_count": 6,
   "id": "32344d0a",
   "metadata": {},
   "outputs": [],
   "source": [
    "#removing the unnamed column in plane_data\n",
    "planedata= planedata.iloc[: , 1:]"
   ]
  },
  {
   "cell_type": "markdown",
   "id": "d0db66d9",
   "metadata": {},
   "source": [
    "## Renaming tailnum in plane_data dataset to make it common to both the datasets"
   ]
  },
  {
   "cell_type": "code",
   "execution_count": 7,
   "id": "32fa5f65",
   "metadata": {},
   "outputs": [],
   "source": [
    "planedata=planedata.rename(columns={'tailnum':'TailNum'})"
   ]
  },
  {
   "cell_type": "markdown",
   "id": "83d745fb",
   "metadata": {},
   "source": [
    "## Merging the combined dataset with the plane_data keeping TailNum as the primary key"
   ]
  },
  {
   "cell_type": "code",
   "execution_count": 8,
   "id": "04c23063",
   "metadata": {},
   "outputs": [],
   "source": [
    "finalcomb = datacomb.merge(planedata,on=['TailNum'])"
   ]
  },
  {
   "cell_type": "code",
   "execution_count": 9,
   "id": "bc9fb87b",
   "metadata": {
    "scrolled": true
   },
   "outputs": [
    {
     "data": {
      "text/html": [
       "<div>\n",
       "<style scoped>\n",
       "    .dataframe tbody tr th:only-of-type {\n",
       "        vertical-align: middle;\n",
       "    }\n",
       "\n",
       "    .dataframe tbody tr th {\n",
       "        vertical-align: top;\n",
       "    }\n",
       "\n",
       "    .dataframe thead th {\n",
       "        text-align: right;\n",
       "    }\n",
       "</style>\n",
       "<table border=\"1\" class=\"dataframe\">\n",
       "  <thead>\n",
       "    <tr style=\"text-align: right;\">\n",
       "      <th></th>\n",
       "      <th>Year</th>\n",
       "      <th>Month</th>\n",
       "      <th>DayofMonth</th>\n",
       "      <th>DayOfWeek</th>\n",
       "      <th>DepTime</th>\n",
       "      <th>CRSDepTime</th>\n",
       "      <th>ArrTime</th>\n",
       "      <th>CRSArrTime</th>\n",
       "      <th>UniqueCarrier</th>\n",
       "      <th>FlightNum</th>\n",
       "      <th>...</th>\n",
       "      <th>SecurityDelay</th>\n",
       "      <th>LateAircraftDelay</th>\n",
       "      <th>type</th>\n",
       "      <th>manufacturer</th>\n",
       "      <th>issue_date</th>\n",
       "      <th>model</th>\n",
       "      <th>status</th>\n",
       "      <th>aircraft_type</th>\n",
       "      <th>engine_type</th>\n",
       "      <th>year</th>\n",
       "    </tr>\n",
       "  </thead>\n",
       "  <tbody>\n",
       "    <tr>\n",
       "      <th>0</th>\n",
       "      <td>2006</td>\n",
       "      <td>1</td>\n",
       "      <td>11</td>\n",
       "      <td>3</td>\n",
       "      <td>743.0</td>\n",
       "      <td>745</td>\n",
       "      <td>1024.0</td>\n",
       "      <td>1018</td>\n",
       "      <td>US</td>\n",
       "      <td>343</td>\n",
       "      <td>...</td>\n",
       "      <td>0</td>\n",
       "      <td>0</td>\n",
       "      <td>Corporation</td>\n",
       "      <td>AIRBUS INDUSTRIE</td>\n",
       "      <td>07/09/2004</td>\n",
       "      <td>A320-232</td>\n",
       "      <td>Valid</td>\n",
       "      <td>Fixed Wing Multi-Engine</td>\n",
       "      <td>Turbo-Jet</td>\n",
       "      <td>1999</td>\n",
       "    </tr>\n",
       "    <tr>\n",
       "      <th>1</th>\n",
       "      <td>2006</td>\n",
       "      <td>1</td>\n",
       "      <td>11</td>\n",
       "      <td>3</td>\n",
       "      <td>1913.0</td>\n",
       "      <td>1912</td>\n",
       "      <td>2326.0</td>\n",
       "      <td>2331</td>\n",
       "      <td>US</td>\n",
       "      <td>9</td>\n",
       "      <td>...</td>\n",
       "      <td>0</td>\n",
       "      <td>0</td>\n",
       "      <td>Corporation</td>\n",
       "      <td>AIRBUS INDUSTRIE</td>\n",
       "      <td>07/09/2004</td>\n",
       "      <td>A320-232</td>\n",
       "      <td>Valid</td>\n",
       "      <td>Fixed Wing Multi-Engine</td>\n",
       "      <td>Turbo-Jet</td>\n",
       "      <td>1999</td>\n",
       "    </tr>\n",
       "    <tr>\n",
       "      <th>2</th>\n",
       "      <td>2006</td>\n",
       "      <td>1</td>\n",
       "      <td>12</td>\n",
       "      <td>4</td>\n",
       "      <td>2355.0</td>\n",
       "      <td>2359</td>\n",
       "      <td>121.0</td>\n",
       "      <td>131</td>\n",
       "      <td>US</td>\n",
       "      <td>374</td>\n",
       "      <td>...</td>\n",
       "      <td>0</td>\n",
       "      <td>0</td>\n",
       "      <td>Corporation</td>\n",
       "      <td>AIRBUS INDUSTRIE</td>\n",
       "      <td>07/09/2004</td>\n",
       "      <td>A320-232</td>\n",
       "      <td>Valid</td>\n",
       "      <td>Fixed Wing Multi-Engine</td>\n",
       "      <td>Turbo-Jet</td>\n",
       "      <td>1999</td>\n",
       "    </tr>\n",
       "    <tr>\n",
       "      <th>3</th>\n",
       "      <td>2006</td>\n",
       "      <td>1</td>\n",
       "      <td>12</td>\n",
       "      <td>4</td>\n",
       "      <td>724.0</td>\n",
       "      <td>729</td>\n",
       "      <td>1017.0</td>\n",
       "      <td>1019</td>\n",
       "      <td>US</td>\n",
       "      <td>182</td>\n",
       "      <td>...</td>\n",
       "      <td>0</td>\n",
       "      <td>0</td>\n",
       "      <td>Corporation</td>\n",
       "      <td>AIRBUS INDUSTRIE</td>\n",
       "      <td>07/09/2004</td>\n",
       "      <td>A320-232</td>\n",
       "      <td>Valid</td>\n",
       "      <td>Fixed Wing Multi-Engine</td>\n",
       "      <td>Turbo-Jet</td>\n",
       "      <td>1999</td>\n",
       "    </tr>\n",
       "    <tr>\n",
       "      <th>4</th>\n",
       "      <td>2006</td>\n",
       "      <td>1</td>\n",
       "      <td>12</td>\n",
       "      <td>4</td>\n",
       "      <td>1305.0</td>\n",
       "      <td>1300</td>\n",
       "      <td>1848.0</td>\n",
       "      <td>1850</td>\n",
       "      <td>US</td>\n",
       "      <td>570</td>\n",
       "      <td>...</td>\n",
       "      <td>0</td>\n",
       "      <td>0</td>\n",
       "      <td>Corporation</td>\n",
       "      <td>AIRBUS INDUSTRIE</td>\n",
       "      <td>07/09/2004</td>\n",
       "      <td>A320-232</td>\n",
       "      <td>Valid</td>\n",
       "      <td>Fixed Wing Multi-Engine</td>\n",
       "      <td>Turbo-Jet</td>\n",
       "      <td>1999</td>\n",
       "    </tr>\n",
       "  </tbody>\n",
       "</table>\n",
       "<p>5 rows × 37 columns</p>\n",
       "</div>"
      ],
      "text/plain": [
       "   Year  Month  DayofMonth  DayOfWeek  DepTime  CRSDepTime  ArrTime  \\\n",
       "0  2006      1          11          3    743.0         745   1024.0   \n",
       "1  2006      1          11          3   1913.0        1912   2326.0   \n",
       "2  2006      1          12          4   2355.0        2359    121.0   \n",
       "3  2006      1          12          4    724.0         729   1017.0   \n",
       "4  2006      1          12          4   1305.0        1300   1848.0   \n",
       "\n",
       "   CRSArrTime UniqueCarrier  FlightNum  ... SecurityDelay  LateAircraftDelay  \\\n",
       "0        1018            US        343  ...             0                  0   \n",
       "1        2331            US          9  ...             0                  0   \n",
       "2         131            US        374  ...             0                  0   \n",
       "3        1019            US        182  ...             0                  0   \n",
       "4        1850            US        570  ...             0                  0   \n",
       "\n",
       "          type      manufacturer  issue_date     model status  \\\n",
       "0  Corporation  AIRBUS INDUSTRIE  07/09/2004  A320-232  Valid   \n",
       "1  Corporation  AIRBUS INDUSTRIE  07/09/2004  A320-232  Valid   \n",
       "2  Corporation  AIRBUS INDUSTRIE  07/09/2004  A320-232  Valid   \n",
       "3  Corporation  AIRBUS INDUSTRIE  07/09/2004  A320-232  Valid   \n",
       "4  Corporation  AIRBUS INDUSTRIE  07/09/2004  A320-232  Valid   \n",
       "\n",
       "             aircraft_type  engine_type  year  \n",
       "0  Fixed Wing Multi-Engine    Turbo-Jet  1999  \n",
       "1  Fixed Wing Multi-Engine    Turbo-Jet  1999  \n",
       "2  Fixed Wing Multi-Engine    Turbo-Jet  1999  \n",
       "3  Fixed Wing Multi-Engine    Turbo-Jet  1999  \n",
       "4  Fixed Wing Multi-Engine    Turbo-Jet  1999  \n",
       "\n",
       "[5 rows x 37 columns]"
      ]
     },
     "execution_count": 9,
     "metadata": {},
     "output_type": "execute_result"
    }
   ],
   "source": [
    "finalcomb.head()"
   ]
  },
  {
   "cell_type": "code",
   "execution_count": 10,
   "id": "d156234c",
   "metadata": {
    "scrolled": false
   },
   "outputs": [
    {
     "data": {
      "text/plain": [
       "(12030549, 37)"
      ]
     },
     "execution_count": 10,
     "metadata": {},
     "output_type": "execute_result"
    }
   ],
   "source": [
    "#Checking the number of rows and columns of 'finalcomb'\n",
    "finalcomb.shape"
   ]
  },
  {
   "cell_type": "markdown",
   "id": "43a210d5",
   "metadata": {},
   "source": [
    "Missing values from ArrDelay and DepDelay are removed since we need those columns in this question"
   ]
  },
  {
   "cell_type": "code",
   "execution_count": 11,
   "id": "63873aa8",
   "metadata": {},
   "outputs": [],
   "source": [
    "#Removing missing values from ArrDelay column\n",
    "finalcomb= finalcomb[pd.notnull(finalcomb['ArrDelay'])]"
   ]
  },
  {
   "cell_type": "code",
   "execution_count": 14,
   "id": "83222d12",
   "metadata": {},
   "outputs": [],
   "source": [
    "#Removing missing values from DepDelay column\n",
    "finalcomb= finalcomb[pd.notnull(finalcomb['DepDelay'])]"
   ]
  },
  {
   "cell_type": "code",
   "execution_count": 15,
   "id": "915edb69",
   "metadata": {
    "scrolled": true
   },
   "outputs": [
    {
     "name": "stderr",
     "output_type": "stream",
     "text": [
      "<ipython-input-15-045d303b2a98>:2: FutureWarning: Indexing with multiple keys (implicitly converted to a tuple of keys) will be deprecated, use a list instead.\n",
      "  avgdelays=finalcomb.groupby('year')['ArrDelay','DepDelay'].mean().reset_index()\n"
     ]
    }
   ],
   "source": [
    "#grouping finalcomb by the maunfacture year on Averages of ArrDelay and DepDelay\n",
    "avgdelays=finalcomb.groupby('year')['ArrDelay','DepDelay'].mean().reset_index()"
   ]
  },
  {
   "cell_type": "code",
   "execution_count": 17,
   "id": "b30ceb9c",
   "metadata": {},
   "outputs": [],
   "source": [
    "#Renaming the columns of avgdelays appropriately\n",
    "avgdelays=avgdelays.rename(columns={'ArrDelay':'AvgArrDelay','DepDelay':'AvgDepDelay'})"
   ]
  },
  {
   "cell_type": "markdown",
   "id": "6107a0fb",
   "metadata": {},
   "source": [
    "Removing the out of range data \"0000\" and \"None\" from the 'year' column of avgdelays."
   ]
  },
  {
   "cell_type": "code",
   "execution_count": 18,
   "id": "112257e9",
   "metadata": {},
   "outputs": [],
   "source": [
    "#index of the row where year=0000 in avgdelays is found\n",
    "index = avgdelays[avgdelays['year'] == '0000'].index"
   ]
  },
  {
   "cell_type": "code",
   "execution_count": 19,
   "id": "1b707e95",
   "metadata": {},
   "outputs": [],
   "source": [
    "#The row which contains \"0000\" in the year column is removed\n",
    "avgdelays.drop(index,inplace=True)"
   ]
  },
  {
   "cell_type": "code",
   "execution_count": 20,
   "id": "d30d1d87",
   "metadata": {},
   "outputs": [],
   "source": [
    "#index of the row where year=\"None\" in avgdelays is found\n",
    "index1=avgdelays[avgdelays['year'] == 'None'].index"
   ]
  },
  {
   "cell_type": "code",
   "execution_count": 21,
   "id": "7b715235",
   "metadata": {},
   "outputs": [],
   "source": [
    "#The row which contains \"None\" in the year column is removed\n",
    "avgdelays.drop(index1,inplace=True)"
   ]
  },
  {
   "cell_type": "code",
   "execution_count": 23,
   "id": "5bb9bef5",
   "metadata": {},
   "outputs": [],
   "source": [
    "#finding average of both the average delays to find a common value for delays\n",
    "avgofdelays= (avgdelays.AvgArrDelay + avgdelays.AvgDepDelay)/2"
   ]
  },
  {
   "cell_type": "markdown",
   "id": "f9b14a08",
   "metadata": {},
   "source": [
    "## Plotting a lineplot "
   ]
  },
  {
   "cell_type": "code",
   "execution_count": 28,
   "id": "8ad01fd5",
   "metadata": {
    "scrolled": false
   },
   "outputs": [
    {
     "data": {
      "text/plain": [
       "<matplotlib.legend.Legend at 0x1c920eab280>"
      ]
     },
     "execution_count": 28,
     "metadata": {},
     "output_type": "execute_result"
    },
    {
     "data": {
      "image/png": "[encoded data removed]",
      "text/plain": [
       "<Figure size 2160x720 with 1 Axes>"
      ]
     },
     "metadata": {
      "needs_background": "light"
     },
     "output_type": "display_data"
    }
   ],
   "source": [
    "fig, ax=plt.subplots(figsize=(30,10))\n",
    "ax.plot(avgdelays['year'],avgofdelays,color='blue',label='AvgDelay')\n",
    "plt.xticks(avgdelays['year'])\n",
    "ax.set_ylabel('Average Delays/mins',size=20)\n",
    "ax.set_xlabel('Plane Manufacture year',size=20)\n",
    "plt.title(\"Lineplot representing the AverageDelay per Plane Manufacture year\",size=30)\n",
    "ax.legend()"
   ]
  },
  {
   "cell_type": "code",
   "execution_count": 30,
   "id": "391a0200",
   "metadata": {},
   "outputs": [],
   "source": [
    "#Changing years to integer datatype to calculate the correlation\n",
    "avgdelays.year=avgdelays.year.astype(int)"
   ]
  },
  {
   "cell_type": "markdown",
   "id": "04761221",
   "metadata": {},
   "source": [
    "Finding the pearson correlation between Avgofdelays and plane manufacture year"
   ]
  },
  {
   "cell_type": "code",
   "execution_count": 31,
   "id": "24222e99",
   "metadata": {},
   "outputs": [
    {
     "data": {
      "text/plain": [
       "array([[ 1.        , -0.07109128],\n",
       "       [-0.07109128,  1.        ]])"
      ]
     },
     "execution_count": 31,
     "metadata": {},
     "output_type": "execute_result"
    }
   ],
   "source": [
    "np.corrcoef(avgdelays.year,avgofdelays)"
   ]
  }
 ],
 "metadata": {
  "kernelspec": {
   "display_name": "Python 3",
   "language": "python",
   "name": "python3"
  },
  "language_info": {
   "codemirror_mode": {
    "name": "ipython",
    "version": 3
   },
   "file_extension": ".py",
   "mimetype": "text/x-python",
   "name": "python",
   "nbconvert_exporter": "python",
   "pygments_lexer": "ipython3",
   "version": "3.8.8"
  }
 },
 "nbformat": 4,
 "nbformat_minor": 5
}
