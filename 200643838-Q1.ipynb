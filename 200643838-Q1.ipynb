{
 "cells": [
  {
   "cell_type": "markdown",
   "id": "4aa3be08",
   "metadata": {},
   "source": [
    "## Question 1"
   ]
  },
  {
   "cell_type": "markdown",
   "id": "79c16992",
   "metadata": {},
   "source": [
    "## Importing the necessary Libraries"
   ]
  },
  {
   "cell_type": "code",
   "execution_count": 1,
   "id": "39fbfa4b",
   "metadata": {},
   "outputs": [],
   "source": [
    "import numpy as np\n",
    "import pandas as pd\n",
    "import matplotlib.pyplot as plt\n",
    "import seaborn as sns"
   ]
  },
  {
   "cell_type": "markdown",
   "id": "f4d53b2f",
   "metadata": {},
   "source": [
    "## Importing the cleaned dataset "
   ]
  },
  {
   "cell_type": "code",
   "execution_count": 2,
   "id": "6cece1d5",
   "metadata": {},
   "outputs": [],
   "source": [
    "datacomb=pd.read_csv(\"../Coursework/datacomb.csv\")"
   ]
  },
  {
   "cell_type": "code",
   "execution_count": 4,
   "id": "9060aeff",
   "metadata": {
    "scrolled": true
   },
   "outputs": [
    {
     "data": {
      "text/html": [
       "<div>\n",
       "<style scoped>\n",
       "    .dataframe tbody tr th:only-of-type {\n",
       "        vertical-align: middle;\n",
       "    }\n",
       "\n",
       "    .dataframe tbody tr th {\n",
       "        vertical-align: top;\n",
       "    }\n",
       "\n",
       "    .dataframe thead th {\n",
       "        text-align: right;\n",
       "    }\n",
       "</style>\n",
       "<table border=\"1\" class=\"dataframe\">\n",
       "  <thead>\n",
       "    <tr style=\"text-align: right;\">\n",
       "      <th></th>\n",
       "      <th>Unnamed: 0</th>\n",
       "      <th>Year</th>\n",
       "      <th>Month</th>\n",
       "      <th>DayofMonth</th>\n",
       "      <th>DayOfWeek</th>\n",
       "      <th>DepTime</th>\n",
       "      <th>CRSDepTime</th>\n",
       "      <th>ArrTime</th>\n",
       "      <th>CRSArrTime</th>\n",
       "      <th>UniqueCarrier</th>\n",
       "      <th>...</th>\n",
       "      <th>TaxiIn</th>\n",
       "      <th>TaxiOut</th>\n",
       "      <th>Cancelled</th>\n",
       "      <th>CancellationCode</th>\n",
       "      <th>Diverted</th>\n",
       "      <th>CarrierDelay</th>\n",
       "      <th>WeatherDelay</th>\n",
       "      <th>NASDelay</th>\n",
       "      <th>SecurityDelay</th>\n",
       "      <th>LateAircraftDelay</th>\n",
       "    </tr>\n",
       "  </thead>\n",
       "  <tbody>\n",
       "    <tr>\n",
       "      <th>0</th>\n",
       "      <td>0</td>\n",
       "      <td>2006</td>\n",
       "      <td>1</td>\n",
       "      <td>11</td>\n",
       "      <td>3</td>\n",
       "      <td>743.0</td>\n",
       "      <td>745</td>\n",
       "      <td>1024.0</td>\n",
       "      <td>1018</td>\n",
       "      <td>US</td>\n",
       "      <td>...</td>\n",
       "      <td>45</td>\n",
       "      <td>13</td>\n",
       "      <td>0</td>\n",
       "      <td>NaN</td>\n",
       "      <td>0</td>\n",
       "      <td>0</td>\n",
       "      <td>0</td>\n",
       "      <td>0</td>\n",
       "      <td>0</td>\n",
       "      <td>0</td>\n",
       "    </tr>\n",
       "    <tr>\n",
       "      <th>1</th>\n",
       "      <td>1</td>\n",
       "      <td>2006</td>\n",
       "      <td>1</td>\n",
       "      <td>11</td>\n",
       "      <td>3</td>\n",
       "      <td>1053.0</td>\n",
       "      <td>1053</td>\n",
       "      <td>1313.0</td>\n",
       "      <td>1318</td>\n",
       "      <td>US</td>\n",
       "      <td>...</td>\n",
       "      <td>27</td>\n",
       "      <td>19</td>\n",
       "      <td>0</td>\n",
       "      <td>NaN</td>\n",
       "      <td>0</td>\n",
       "      <td>0</td>\n",
       "      <td>0</td>\n",
       "      <td>0</td>\n",
       "      <td>0</td>\n",
       "      <td>0</td>\n",
       "    </tr>\n",
       "    <tr>\n",
       "      <th>2</th>\n",
       "      <td>2</td>\n",
       "      <td>2006</td>\n",
       "      <td>1</td>\n",
       "      <td>11</td>\n",
       "      <td>3</td>\n",
       "      <td>1915.0</td>\n",
       "      <td>1915</td>\n",
       "      <td>2110.0</td>\n",
       "      <td>2133</td>\n",
       "      <td>US</td>\n",
       "      <td>...</td>\n",
       "      <td>4</td>\n",
       "      <td>11</td>\n",
       "      <td>0</td>\n",
       "      <td>NaN</td>\n",
       "      <td>0</td>\n",
       "      <td>0</td>\n",
       "      <td>0</td>\n",
       "      <td>0</td>\n",
       "      <td>0</td>\n",
       "      <td>0</td>\n",
       "    </tr>\n",
       "    <tr>\n",
       "      <th>3</th>\n",
       "      <td>3</td>\n",
       "      <td>2006</td>\n",
       "      <td>1</td>\n",
       "      <td>11</td>\n",
       "      <td>3</td>\n",
       "      <td>1753.0</td>\n",
       "      <td>1755</td>\n",
       "      <td>1925.0</td>\n",
       "      <td>1933</td>\n",
       "      <td>US</td>\n",
       "      <td>...</td>\n",
       "      <td>16</td>\n",
       "      <td>10</td>\n",
       "      <td>0</td>\n",
       "      <td>NaN</td>\n",
       "      <td>0</td>\n",
       "      <td>0</td>\n",
       "      <td>0</td>\n",
       "      <td>0</td>\n",
       "      <td>0</td>\n",
       "      <td>0</td>\n",
       "    </tr>\n",
       "    <tr>\n",
       "      <th>4</th>\n",
       "      <td>4</td>\n",
       "      <td>2006</td>\n",
       "      <td>1</td>\n",
       "      <td>11</td>\n",
       "      <td>3</td>\n",
       "      <td>824.0</td>\n",
       "      <td>832</td>\n",
       "      <td>1015.0</td>\n",
       "      <td>1015</td>\n",
       "      <td>US</td>\n",
       "      <td>...</td>\n",
       "      <td>27</td>\n",
       "      <td>12</td>\n",
       "      <td>0</td>\n",
       "      <td>NaN</td>\n",
       "      <td>0</td>\n",
       "      <td>0</td>\n",
       "      <td>0</td>\n",
       "      <td>0</td>\n",
       "      <td>0</td>\n",
       "      <td>0</td>\n",
       "    </tr>\n",
       "  </tbody>\n",
       "</table>\n",
       "<p>5 rows × 30 columns</p>\n",
       "</div>"
      ],
      "text/plain": [
       "   Unnamed: 0  Year  Month  DayofMonth  DayOfWeek  DepTime  CRSDepTime  \\\n",
       "0           0  2006      1          11          3    743.0         745   \n",
       "1           1  2006      1          11          3   1053.0        1053   \n",
       "2           2  2006      1          11          3   1915.0        1915   \n",
       "3           3  2006      1          11          3   1753.0        1755   \n",
       "4           4  2006      1          11          3    824.0         832   \n",
       "\n",
       "   ArrTime  CRSArrTime UniqueCarrier  ...  TaxiIn TaxiOut  Cancelled  \\\n",
       "0   1024.0        1018            US  ...      45      13          0   \n",
       "1   1313.0        1318            US  ...      27      19          0   \n",
       "2   2110.0        2133            US  ...       4      11          0   \n",
       "3   1925.0        1933            US  ...      16      10          0   \n",
       "4   1015.0        1015            US  ...      27      12          0   \n",
       "\n",
       "   CancellationCode  Diverted  CarrierDelay  WeatherDelay NASDelay  \\\n",
       "0               NaN         0             0             0        0   \n",
       "1               NaN         0             0             0        0   \n",
       "2               NaN         0             0             0        0   \n",
       "3               NaN         0             0             0        0   \n",
       "4               NaN         0             0             0        0   \n",
       "\n",
       "  SecurityDelay  LateAircraftDelay  \n",
       "0             0                  0  \n",
       "1             0                  0  \n",
       "2             0                  0  \n",
       "3             0                  0  \n",
       "4             0                  0  \n",
       "\n",
       "[5 rows x 30 columns]"
      ]
     },
     "execution_count": 4,
     "metadata": {},
     "output_type": "execute_result"
    }
   ],
   "source": [
    "#Checking the first 5 rows of datacomb\n",
    "datacomb.head()"
   ]
  },
  {
   "cell_type": "markdown",
   "id": "44af873c",
   "metadata": {},
   "source": [
    "It is visible that there is an unnamed column in the dataset1!"
   ]
  },
  {
   "cell_type": "code",
   "execution_count": 5,
   "id": "42fc24c7",
   "metadata": {},
   "outputs": [],
   "source": [
    "#removing the unnamed column from the combined dataset\n",
    "datacomb = datacomb.iloc[: , 1:]"
   ]
  },
  {
   "cell_type": "markdown",
   "id": "230855e9",
   "metadata": {},
   "source": [
    "Since we need to use the ArrDelay,DepDelay columns in this question, we have to remove the missing values in those columns"
   ]
  },
  {
   "cell_type": "code",
   "execution_count": 6,
   "id": "4407be81",
   "metadata": {},
   "outputs": [],
   "source": [
    "#removing the missing values in ArrDelay column\n",
    "datacomb = datacomb[pd.notnull(datacomb['ArrDelay'])]"
   ]
  },
  {
   "cell_type": "code",
   "execution_count": 7,
   "id": "54954527",
   "metadata": {},
   "outputs": [],
   "source": [
    "#removing missing values in DepDelay column\n",
    "datacomb = datacomb[pd.notnull(datacomb['DepDelay'])]"
   ]
  },
  {
   "cell_type": "markdown",
   "id": "70345d06",
   "metadata": {},
   "source": [
    "## Finding the best dayofweek to minimise delays"
   ]
  },
  {
   "cell_type": "code",
   "execution_count": 26,
   "id": "4eb6fce5",
   "metadata": {
    "scrolled": false
   },
   "outputs": [
    {
     "name": "stderr",
     "output_type": "stream",
     "text": [
      "<ipython-input-26-a32795bd3f07>:2: FutureWarning: Indexing with multiple keys (implicitly converted to a tuple of keys) will be deprecated, use a list instead.\n",
      "  avgdelays_weekday=datacomb.groupby('DayOfWeek')['ArrDelay','DepDelay'].mean().reset_index()\n"
     ]
    }
   ],
   "source": [
    "#DayOfWeek is grouped by the averages of DepDelay and ArrDelay\n",
    "avgdelays_weekday=datacomb.groupby('DayOfWeek')['ArrDelay','DepDelay'].mean().reset_index()"
   ]
  },
  {
   "cell_type": "code",
   "execution_count": 27,
   "id": "af17c10f",
   "metadata": {},
   "outputs": [
    {
     "data": {
      "text/html": [
       "<div>\n",
       "<style scoped>\n",
       "    .dataframe tbody tr th:only-of-type {\n",
       "        vertical-align: middle;\n",
       "    }\n",
       "\n",
       "    .dataframe tbody tr th {\n",
       "        vertical-align: top;\n",
       "    }\n",
       "\n",
       "    .dataframe thead th {\n",
       "        text-align: right;\n",
       "    }\n",
       "</style>\n",
       "<table border=\"1\" class=\"dataframe\">\n",
       "  <thead>\n",
       "    <tr style=\"text-align: right;\">\n",
       "      <th></th>\n",
       "      <th>DayOfWeek</th>\n",
       "      <th>ArrDelay</th>\n",
       "      <th>DepDelay</th>\n",
       "    </tr>\n",
       "  </thead>\n",
       "  <tbody>\n",
       "    <tr>\n",
       "      <th>0</th>\n",
       "      <td>1</td>\n",
       "      <td>9.701697</td>\n",
       "      <td>11.106484</td>\n",
       "    </tr>\n",
       "    <tr>\n",
       "      <th>1</th>\n",
       "      <td>2</td>\n",
       "      <td>7.248419</td>\n",
       "      <td>8.532392</td>\n",
       "    </tr>\n",
       "    <tr>\n",
       "      <th>2</th>\n",
       "      <td>3</td>\n",
       "      <td>8.987949</td>\n",
       "      <td>9.771903</td>\n",
       "    </tr>\n",
       "    <tr>\n",
       "      <th>3</th>\n",
       "      <td>4</td>\n",
       "      <td>12.141546</td>\n",
       "      <td>12.314958</td>\n",
       "    </tr>\n",
       "    <tr>\n",
       "      <th>4</th>\n",
       "      <td>5</td>\n",
       "      <td>12.701592</td>\n",
       "      <td>13.298945</td>\n",
       "    </tr>\n",
       "    <tr>\n",
       "      <th>5</th>\n",
       "      <td>6</td>\n",
       "      <td>5.513338</td>\n",
       "      <td>8.620799</td>\n",
       "    </tr>\n",
       "    <tr>\n",
       "      <th>6</th>\n",
       "      <td>7</td>\n",
       "      <td>9.247210</td>\n",
       "      <td>11.074628</td>\n",
       "    </tr>\n",
       "  </tbody>\n",
       "</table>\n",
       "</div>"
      ],
      "text/plain": [
       "   DayOfWeek   ArrDelay   DepDelay\n",
       "0          1   9.701697  11.106484\n",
       "1          2   7.248419   8.532392\n",
       "2          3   8.987949   9.771903\n",
       "3          4  12.141546  12.314958\n",
       "4          5  12.701592  13.298945\n",
       "5          6   5.513338   8.620799\n",
       "6          7   9.247210  11.074628"
      ]
     },
     "execution_count": 27,
     "metadata": {},
     "output_type": "execute_result"
    }
   ],
   "source": [
    "avgdelays_weekday"
   ]
  },
  {
   "cell_type": "code",
   "execution_count": 29,
   "id": "471ea8cf",
   "metadata": {},
   "outputs": [],
   "source": [
    "#The Columns of  are renamed appropriately\n",
    "avgdelays_weekday=avgdelays_weekday.rename(columns={'ArrDelay':'AvgArrDelay','DepDelay':'AvgDepDelay'})"
   ]
  },
  {
   "cell_type": "code",
   "execution_count": 31,
   "id": "42139733",
   "metadata": {
    "scrolled": true
   },
   "outputs": [
    {
     "data": {
      "text/html": [
       "<div>\n",
       "<style scoped>\n",
       "    .dataframe tbody tr th:only-of-type {\n",
       "        vertical-align: middle;\n",
       "    }\n",
       "\n",
       "    .dataframe tbody tr th {\n",
       "        vertical-align: top;\n",
       "    }\n",
       "\n",
       "    .dataframe thead th {\n",
       "        text-align: right;\n",
       "    }\n",
       "</style>\n",
       "<table border=\"1\" class=\"dataframe\">\n",
       "  <thead>\n",
       "    <tr style=\"text-align: right;\">\n",
       "      <th></th>\n",
       "      <th>AvgArrDelay</th>\n",
       "      <th>AvgDepDelay</th>\n",
       "    </tr>\n",
       "    <tr>\n",
       "      <th>DayOfWeek</th>\n",
       "      <th></th>\n",
       "      <th></th>\n",
       "    </tr>\n",
       "  </thead>\n",
       "  <tbody>\n",
       "    <tr>\n",
       "      <th>1</th>\n",
       "      <td>9.701697</td>\n",
       "      <td>11.106484</td>\n",
       "    </tr>\n",
       "    <tr>\n",
       "      <th>2</th>\n",
       "      <td>7.248419</td>\n",
       "      <td>8.532392</td>\n",
       "    </tr>\n",
       "    <tr>\n",
       "      <th>3</th>\n",
       "      <td>8.987949</td>\n",
       "      <td>9.771903</td>\n",
       "    </tr>\n",
       "    <tr>\n",
       "      <th>4</th>\n",
       "      <td>12.141546</td>\n",
       "      <td>12.314958</td>\n",
       "    </tr>\n",
       "    <tr>\n",
       "      <th>5</th>\n",
       "      <td>12.701592</td>\n",
       "      <td>13.298945</td>\n",
       "    </tr>\n",
       "    <tr>\n",
       "      <th>6</th>\n",
       "      <td>5.513338</td>\n",
       "      <td>8.620799</td>\n",
       "    </tr>\n",
       "    <tr>\n",
       "      <th>7</th>\n",
       "      <td>9.247210</td>\n",
       "      <td>11.074628</td>\n",
       "    </tr>\n",
       "  </tbody>\n",
       "</table>\n",
       "</div>"
      ],
      "text/plain": [
       "           AvgArrDelay  AvgDepDelay\n",
       "DayOfWeek                          \n",
       "1             9.701697    11.106484\n",
       "2             7.248419     8.532392\n",
       "3             8.987949     9.771903\n",
       "4            12.141546    12.314958\n",
       "5            12.701592    13.298945\n",
       "6             5.513338     8.620799\n",
       "7             9.247210    11.074628"
      ]
     },
     "execution_count": 31,
     "metadata": {},
     "output_type": "execute_result"
    }
   ],
   "source": [
    "#DayOfWeek is set as the index of the pivottable\n",
    "avgdelays_weekday.set_index('DayOfWeek')"
   ]
  },
  {
   "cell_type": "code",
   "execution_count": 33,
   "id": "5fe4a7f8",
   "metadata": {},
   "outputs": [],
   "source": [
    "#Average of both AvgDepDelay and AvgArrDelay are taken to visualise it more effectively \n",
    "AvgofDelays=(avgdelays_weekday.AvgArrDelay + avgdelays_weekday.AvgDepDelay)/2"
   ]
  },
  {
   "cell_type": "markdown",
   "id": "2f67172d",
   "metadata": {},
   "source": [
    "## Plotting a line plot"
   ]
  },
  {
   "cell_type": "code",
   "execution_count": 40,
   "id": "5a381e63",
   "metadata": {
    "scrolled": false
   },
   "outputs": [
    {
     "data": {
      "image/png": "[encoded data removed]",
      "text/plain": [
       "<Figure size 720x288 with 1 Axes>"
      ]
     },
     "metadata": {
      "needs_background": "light"
     },
     "output_type": "display_data"
    }
   ],
   "source": [
    "fig, ax=plt.subplots(figsize=(10,4))\n",
    "ax.plot(avgdelays_weekday['DayOfWeek'],avgdelays_weekday['AvgDepDelay'],color='green',label='AvgDepDelay')\n",
    "ax.plot(avgdelays_weekday['DayOfWeek'],AvgofDelays,color='blue',label='AvgOfDelays')\n",
    "ax.plot(avgdelays_weekday['DayOfWeek'],avgdelays_weekday['AvgArrDelay'],color='red',label='AvgArrDelay')\n",
    "plt.xticks(avgdelays_weekday['DayOfWeek'],['Monday','Tuesday','Wednesday','Thursday','Friday','Saturday','Sunday'])\n",
    "ax.set_ylabel('Average Delays/mins')\n",
    "ax.set_xlabel('DayOfWeek')\n",
    "ax.title.set_text('Line plot showing the Average Delays per Weekday')\n",
    "ax.legend()\n",
    "plt.show()"
   ]
  },
  {
   "cell_type": "markdown",
   "id": "a5e9378d",
   "metadata": {},
   "source": [
    "Saturday is the best dayofweek to minimise delays"
   ]
  },
  {
   "cell_type": "markdown",
   "id": "909809bc",
   "metadata": {},
   "source": [
    "## Finding the Best Month to minimise Delays"
   ]
  },
  {
   "cell_type": "code",
   "execution_count": 35,
   "id": "1ac4192b",
   "metadata": {
    "scrolled": false
   },
   "outputs": [
    {
     "name": "stderr",
     "output_type": "stream",
     "text": [
      "<ipython-input-35-0eb097a3afa8>:2: FutureWarning: Indexing with multiple keys (implicitly converted to a tuple of keys) will be deprecated, use a list instead.\n",
      "  avgdelays_month=datacomb.groupby('Month')['ArrDelay','DepDelay'].mean().reset_index()\n"
     ]
    }
   ],
   "source": [
    "# Month is grouped by the averages of ArrDelay and DepDelay\n",
    "avgdelays_month=datacomb.groupby('Month')['ArrDelay','DepDelay'].mean().reset_index()"
   ]
  },
  {
   "cell_type": "code",
   "execution_count": 36,
   "id": "5b970bd9",
   "metadata": {},
   "outputs": [
    {
     "data": {
      "text/html": [
       "<div>\n",
       "<style scoped>\n",
       "    .dataframe tbody tr th:only-of-type {\n",
       "        vertical-align: middle;\n",
       "    }\n",
       "\n",
       "    .dataframe tbody tr th {\n",
       "        vertical-align: top;\n",
       "    }\n",
       "\n",
       "    .dataframe thead th {\n",
       "        text-align: right;\n",
       "    }\n",
       "</style>\n",
       "<table border=\"1\" class=\"dataframe\">\n",
       "  <thead>\n",
       "    <tr style=\"text-align: right;\">\n",
       "      <th></th>\n",
       "      <th>Month</th>\n",
       "      <th>ArrDelay</th>\n",
       "      <th>DepDelay</th>\n",
       "    </tr>\n",
       "  </thead>\n",
       "  <tbody>\n",
       "    <tr>\n",
       "      <th>0</th>\n",
       "      <td>1</td>\n",
       "      <td>7.447214</td>\n",
       "      <td>9.186764</td>\n",
       "    </tr>\n",
       "    <tr>\n",
       "      <th>1</th>\n",
       "      <td>2</td>\n",
       "      <td>10.498488</td>\n",
       "      <td>11.595069</td>\n",
       "    </tr>\n",
       "    <tr>\n",
       "      <th>2</th>\n",
       "      <td>3</td>\n",
       "      <td>9.027273</td>\n",
       "      <td>10.779701</td>\n",
       "    </tr>\n",
       "    <tr>\n",
       "      <th>3</th>\n",
       "      <td>4</td>\n",
       "      <td>7.491780</td>\n",
       "      <td>9.134426</td>\n",
       "    </tr>\n",
       "    <tr>\n",
       "      <th>4</th>\n",
       "      <td>5</td>\n",
       "      <td>6.964127</td>\n",
       "      <td>8.404951</td>\n",
       "    </tr>\n",
       "    <tr>\n",
       "      <th>5</th>\n",
       "      <td>6</td>\n",
       "      <td>14.152992</td>\n",
       "      <td>14.544010</td>\n",
       "    </tr>\n",
       "    <tr>\n",
       "      <th>6</th>\n",
       "      <td>7</td>\n",
       "      <td>12.737077</td>\n",
       "      <td>13.737311</td>\n",
       "    </tr>\n",
       "    <tr>\n",
       "      <th>7</th>\n",
       "      <td>8</td>\n",
       "      <td>10.662705</td>\n",
       "      <td>11.724292</td>\n",
       "    </tr>\n",
       "    <tr>\n",
       "      <th>8</th>\n",
       "      <td>9</td>\n",
       "      <td>6.034477</td>\n",
       "      <td>7.413950</td>\n",
       "    </tr>\n",
       "    <tr>\n",
       "      <th>9</th>\n",
       "      <td>10</td>\n",
       "      <td>8.559238</td>\n",
       "      <td>9.242656</td>\n",
       "    </tr>\n",
       "    <tr>\n",
       "      <th>10</th>\n",
       "      <td>11</td>\n",
       "      <td>6.002441</td>\n",
       "      <td>8.160109</td>\n",
       "    </tr>\n",
       "    <tr>\n",
       "      <th>11</th>\n",
       "      <td>12</td>\n",
       "      <td>13.709195</td>\n",
       "      <td>14.645250</td>\n",
       "    </tr>\n",
       "  </tbody>\n",
       "</table>\n",
       "</div>"
      ],
      "text/plain": [
       "    Month   ArrDelay   DepDelay\n",
       "0       1   7.447214   9.186764\n",
       "1       2  10.498488  11.595069\n",
       "2       3   9.027273  10.779701\n",
       "3       4   7.491780   9.134426\n",
       "4       5   6.964127   8.404951\n",
       "5       6  14.152992  14.544010\n",
       "6       7  12.737077  13.737311\n",
       "7       8  10.662705  11.724292\n",
       "8       9   6.034477   7.413950\n",
       "9      10   8.559238   9.242656\n",
       "10     11   6.002441   8.160109\n",
       "11     12  13.709195  14.645250"
      ]
     },
     "execution_count": 36,
     "metadata": {},
     "output_type": "execute_result"
    }
   ],
   "source": [
    "avgdelays_month"
   ]
  },
  {
   "cell_type": "code",
   "execution_count": 37,
   "id": "8547f401",
   "metadata": {},
   "outputs": [],
   "source": [
    "#The Column names are renamed appropriately\n",
    "avgdelays_month=avgdelays_month.rename(columns={'ArrDelay':'AvgArrDelay','DepDelay':'AvgDepDelay'})"
   ]
  },
  {
   "cell_type": "code",
   "execution_count": 38,
   "id": "666312fc",
   "metadata": {},
   "outputs": [
    {
     "data": {
      "text/html": [
       "<div>\n",
       "<style scoped>\n",
       "    .dataframe tbody tr th:only-of-type {\n",
       "        vertical-align: middle;\n",
       "    }\n",
       "\n",
       "    .dataframe tbody tr th {\n",
       "        vertical-align: top;\n",
       "    }\n",
       "\n",
       "    .dataframe thead th {\n",
       "        text-align: right;\n",
       "    }\n",
       "</style>\n",
       "<table border=\"1\" class=\"dataframe\">\n",
       "  <thead>\n",
       "    <tr style=\"text-align: right;\">\n",
       "      <th></th>\n",
       "      <th>AvgArrDelay</th>\n",
       "      <th>AvgDepDelay</th>\n",
       "    </tr>\n",
       "    <tr>\n",
       "      <th>Month</th>\n",
       "      <th></th>\n",
       "      <th></th>\n",
       "    </tr>\n",
       "  </thead>\n",
       "  <tbody>\n",
       "    <tr>\n",
       "      <th>1</th>\n",
       "      <td>7.447214</td>\n",
       "      <td>9.186764</td>\n",
       "    </tr>\n",
       "    <tr>\n",
       "      <th>2</th>\n",
       "      <td>10.498488</td>\n",
       "      <td>11.595069</td>\n",
       "    </tr>\n",
       "    <tr>\n",
       "      <th>3</th>\n",
       "      <td>9.027273</td>\n",
       "      <td>10.779701</td>\n",
       "    </tr>\n",
       "    <tr>\n",
       "      <th>4</th>\n",
       "      <td>7.491780</td>\n",
       "      <td>9.134426</td>\n",
       "    </tr>\n",
       "    <tr>\n",
       "      <th>5</th>\n",
       "      <td>6.964127</td>\n",
       "      <td>8.404951</td>\n",
       "    </tr>\n",
       "    <tr>\n",
       "      <th>6</th>\n",
       "      <td>14.152992</td>\n",
       "      <td>14.544010</td>\n",
       "    </tr>\n",
       "    <tr>\n",
       "      <th>7</th>\n",
       "      <td>12.737077</td>\n",
       "      <td>13.737311</td>\n",
       "    </tr>\n",
       "    <tr>\n",
       "      <th>8</th>\n",
       "      <td>10.662705</td>\n",
       "      <td>11.724292</td>\n",
       "    </tr>\n",
       "    <tr>\n",
       "      <th>9</th>\n",
       "      <td>6.034477</td>\n",
       "      <td>7.413950</td>\n",
       "    </tr>\n",
       "    <tr>\n",
       "      <th>10</th>\n",
       "      <td>8.559238</td>\n",
       "      <td>9.242656</td>\n",
       "    </tr>\n",
       "    <tr>\n",
       "      <th>11</th>\n",
       "      <td>6.002441</td>\n",
       "      <td>8.160109</td>\n",
       "    </tr>\n",
       "    <tr>\n",
       "      <th>12</th>\n",
       "      <td>13.709195</td>\n",
       "      <td>14.645250</td>\n",
       "    </tr>\n",
       "  </tbody>\n",
       "</table>\n",
       "</div>"
      ],
      "text/plain": [
       "       AvgArrDelay  AvgDepDelay\n",
       "Month                          \n",
       "1         7.447214     9.186764\n",
       "2        10.498488    11.595069\n",
       "3         9.027273    10.779701\n",
       "4         7.491780     9.134426\n",
       "5         6.964127     8.404951\n",
       "6        14.152992    14.544010\n",
       "7        12.737077    13.737311\n",
       "8        10.662705    11.724292\n",
       "9         6.034477     7.413950\n",
       "10        8.559238     9.242656\n",
       "11        6.002441     8.160109\n",
       "12       13.709195    14.645250"
      ]
     },
     "execution_count": 38,
     "metadata": {},
     "output_type": "execute_result"
    }
   ],
   "source": [
    "#Month is set as the index of the pivot table\n",
    "avgdelays_month.set_index('Month')"
   ]
  },
  {
   "cell_type": "code",
   "execution_count": 39,
   "id": "17f0615c",
   "metadata": {},
   "outputs": [],
   "source": [
    "#Average of AvgDepDelay and AvgArrDelay is taken to see a common trend in the lineplot \n",
    "Avgofdelays_month=(avgdelays_month.AvgArrDelay + avgdelays_month.AvgDepDelay)/2"
   ]
  },
  {
   "cell_type": "code",
   "execution_count": 42,
   "id": "33bf5659",
   "metadata": {
    "scrolled": false
   },
   "outputs": [
    {
     "data": {
      "text/plain": [
       "<matplotlib.legend.Legend at 0x2b51577cf70>"
      ]
     },
     "execution_count": 42,
     "metadata": {},
     "output_type": "execute_result"
    },
    {
     "data": {
      "image/png": "[encoded data removed]",
      "text/plain": [
       "<Figure size 792x504 with 1 Axes>"
      ]
     },
     "metadata": {
      "needs_background": "light"
     },
     "output_type": "display_data"
    }
   ],
   "source": [
    "#Plotting a lineplot\n",
    "fig, ax=plt.subplots(figsize=(11,7))\n",
    "ax.plot(avgdelays_month['Month'],avgdelays_month['AvgDepDelay'],color='green',label='AvgDepDelay')\n",
    "ax.plot(avgdelays_month['Month'],Avgofdelays_month,color='blue',label='AvgOfDelays')\n",
    "ax.plot(avgdelays_month['Month'],avgdelays_month['AvgArrDelay'],color='red',label='AvgArrDelay')\n",
    "plt.xticks(avgdelays_month['Month'],['Jan','Feb','March','April','May','June','July','August','Sep','Oct','Nov','Dec'])\n",
    "ax.set_ylabel('Average Delays/mins')\n",
    "ax.set_xlabel('Month')\n",
    "ax.title.set_text('Line plot showing the Average Delays per Month ')\n",
    "ax.legend()"
   ]
  },
  {
   "cell_type": "markdown",
   "id": "cc5c9e3a",
   "metadata": {},
   "source": [
    "September is the best month to minimise delays"
   ]
  },
  {
   "cell_type": "markdown",
   "id": "7356bfb9",
   "metadata": {},
   "source": [
    "## Finding the Best Time of Day to minimise delays"
   ]
  },
  {
   "cell_type": "markdown",
   "id": "35d9ca47",
   "metadata": {},
   "source": [
    "A new column named TotalDelay is created in datacomb"
   ]
  },
  {
   "cell_type": "code",
   "execution_count": 44,
   "id": "6b0065f5",
   "metadata": {},
   "outputs": [],
   "source": [
    "datacomb['TotalDelay']=\"NA\""
   ]
  },
  {
   "cell_type": "code",
   "execution_count": 46,
   "id": "30617db8",
   "metadata": {},
   "outputs": [],
   "source": [
    "datacomb['TotalDelay']=datacomb.ArrDelay+datacomb.DepDelay"
   ]
  },
  {
   "cell_type": "markdown",
   "id": "7db29954",
   "metadata": {},
   "source": [
    "CRSDepTime is split into 8 time intervals and a list is made below."
   ]
  },
  {
   "cell_type": "code",
   "execution_count": 49,
   "id": "ce6333fb",
   "metadata": {},
   "outputs": [],
   "source": [
    "TotalDelay_Time=[datacomb[(datacomb.CRSDepTime>=0000.0) & (datacomb.CRSDepTime<0300.0)].TotalDelay,\n",
    "                 datacomb[(datacomb.CRSDepTime>=0300.0) & (datacomb.CRSDepTime<0600.0)].TotalDelay,\n",
    "                 datacomb[(datacomb.CRSDepTime>=0600.0) & (datacomb.CRSDepTime<0900.0)].TotalDelay,\n",
    "                 datacomb[(datacomb.CRSDepTime>=0900.0) & (datacomb.CRSDepTime<1200.0)].TotalDelay, \n",
    "                 datacomb[(datacomb.CRSDepTime>=1200.0) & (datacomb.CRSDepTime<1500.0)].TotalDelay, \n",
    "                 datacomb[(datacomb.CRSDepTime>=1500.0) & (datacomb.CRSDepTime<1800.0)].TotalDelay,\n",
    "                 datacomb[(datacomb.CRSDepTime>=1800.0) & (datacomb.CRSDepTime<2100.0)].TotalDelay,\n",
    "                 datacomb[(datacomb.CRSDepTime>=2100.0) & (datacomb.CRSDepTime<=2400.0)].TotalDelay]"
   ]
  },
  {
   "cell_type": "markdown",
   "id": "d43b1742",
   "metadata": {},
   "source": [
    "Plotting a boxplot for TotalDelay by TimeofDay"
   ]
  },
  {
   "cell_type": "code",
   "execution_count": 76,
   "id": "06ad2529",
   "metadata": {
    "scrolled": false
   },
   "outputs": [
    {
     "data": {
      "image/png": "[encoded data removed]",
      "text/plain": [
       "<Figure size 360x360 with 1 Axes>"
      ]
     },
     "metadata": {},
     "output_type": "display_data"
    }
   ],
   "source": [
    "fig, ax = plt.subplots(figsize=(5,5))\n",
    "\n",
    "ax.boxplot(TotalDelay_Time, vert=False, \n",
    "           flierprops=dict(markerfacecolor='r', marker='s'),\n",
    "           showmeans=True)\n",
    "\n",
    "ax.set_ylabel('Timeofday',\n",
    "                 color='#404040',\n",
    "                 family = 'monospace',\n",
    "                 size = 18,\n",
    "                 labelpad=10)\n",
    "ax.set_xlabel('TotalDelay',\n",
    "                 color='#404040',\n",
    "                 family = 'monospace',\n",
    "                 size = 18,\n",
    "                 labelpad=7)\n",
    "ax.set_title(\"Horizontal Boxplots of TotalDelay by TimeofDay\",\n",
    "                color='#404040',\n",
    "                family = 'monospace',\n",
    "                size = 10,\n",
    "                weight = 'bold')\n",
    "ax.tick_params(axis='x', labelcolor='#404040', labelsize=15)\n",
    "ax.tick_params(axis='y', labelcolor='#ffa600', labelsize=15)\n",
    "ax.set_xlim([-100,100]) # X axis limit was limited to make the plot more clearer\n",
    "plt.show()"
   ]
  },
  {
   "cell_type": "markdown",
   "id": "8a9b4284",
   "metadata": {},
   "source": [
    "Timeofday=2 which is 00:00 to 03:00 is the best time of day to minimise delays"
   ]
  }
 ],
 "metadata": {
  "kernelspec": {
   "display_name": "Python 3",
   "language": "python",
   "name": "python3"
  },
  "language_info": {
   "codemirror_mode": {
    "name": "ipython",
    "version": 3
   },
   "file_extension": ".py",
   "mimetype": "text/x-python",
   "name": "python",
   "nbconvert_exporter": "python",
   "pygments_lexer": "ipython3",
   "version": "3.8.8"
  }
 },
 "nbformat": 4,
 "nbformat_minor": 5
}
